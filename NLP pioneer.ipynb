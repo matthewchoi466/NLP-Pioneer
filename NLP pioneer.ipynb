{
 "cells": [
  {
   "cell_type": "code",
   "execution_count": 4,
   "metadata": {},
   "outputs": [
    {
     "name": "stdout",
     "output_type": "stream",
     "text": [
      "Hong Kong (GPE)\n",
      "fourth (ORDINAL)\n",
      "the UN Human Development Index.[8 (ORG)\n",
      "world[28 (GPE)\n",
      "90 (CARDINAL)\n",
      "Hong Kong (GPE)\n",
      "Hong Kong (GPE)\n",
      "third (ORDINAL)\n",
      "New York City (GPE)\n",
      "Hong Kong (GPE)\n",
      "first (ORDINAL)\n",
      "annual (DATE)\n",
      "25 years (DATE)\n",
      "the Heritage Foundation (ORG)\n",
      "U.S. (GPE)\n"
     ]
    }
   ],
   "source": [
    "import spacy\n",
    "\n",
    "# Load the large English NLP model\n",
    "nlp = spacy.load('en_core_web_lg')\n",
    "\n",
    "# The text we want to examine\n",
    "text = \"\"\"Hong Kong is a highly developed territory and ranks fourth on the UN Human Development Index.[8] The lack of space caused demand for denser constructions, which developed the city to a centre for modern architecture and the world's most vertical city. The city also has the largest number of skyscrapers of any city in the world[28] and its residents have some of the highest life expectancies in the world.[8] The dense space also led to a highly developed transportation network with public transport rates exceeding 90 percent.[29] Hong Kong ranks highly in numerous international financial and economic rankings. For instance, Hong Kong is rated third in the Global Financial Centre Index, behind New York City and London.[30] Hong Kong also holds first place in an annual ranking of the world’s most “economically free” countries, topping the chart for 25 years, according to the Heritage Foundation, a U.S. think tank.[31]\n",
    "\"\"\"\n",
    "\n",
    "# Parse the text with spaCy. This runs the entire pipeline.\n",
    "doc = nlp(text)\n",
    "\n",
    "# 'doc' now contains a parsed version of text. We can use it to do anything we want!\n",
    "# For example, this will print out all the named entities that were detected:\n",
    "for entity in doc.ents:\n",
    "    print(f\"{entity.text} ({entity.label_})\")\n"
   ]
  },
  {
   "cell_type": "code",
   "execution_count": 5,
   "metadata": {},
   "outputs": [
    {
     "name": "stdout",
     "output_type": "stream",
     "text": [
      "[REDACTED] is a highly developed territory and ranks fourth on the UN Human Development Index.[8] The lack of space caused demand for denser constructions, which developed the city to a centre for modern architecture and the world's most vertical city. The city also has the largest number of skyscrapers of any city in the [REDACTED] ] and its residents have some of the highest life expectancies in the world.[8] The dense space also led to a highly developed transportation network with public transport rates exceeding 90 percent.[29] [REDACTED] ranks highly in numerous international financial and economic rankings. For instance, [REDACTED] is rated third in the Global Financial Centre Index, behind [REDACTED] and London.[30] [REDACTED] also holds first place in an annual ranking of the world’s most “economically free” countries, topping the chart for 25 years, according to the Heritage Foundation, a [REDACTED] think tank.[31]\n",
      "\n"
     ]
    }
   ],
   "source": [
    "import spacy\n",
    "\n",
    "# Load the large English NLP model\n",
    "nlp = spacy.load('en_core_web_lg')\n",
    "\n",
    "\n",
    "# Replace a token with \"REDACTED\" if it is a place\n",
    "def replace_name_with_placeholder(token):\n",
    "    if token.ent_iob != 0 and token.ent_type_ == \"GPE\":\n",
    "        return \"[REDACTED] \"\n",
    "    else:\n",
    "        return token.string\n",
    "    \n",
    "\n",
    "# Loop through all the entities in a document and check if they are names\n",
    "def scrub(text):\n",
    "    doc = nlp(text)\n",
    "    for ent in doc.ents:\n",
    "        ent.merge()\n",
    "    tokens = map(replace_name_with_placeholder, doc)\n",
    "    return \"\".join(tokens)\n",
    "\n",
    "s = \"\"\"Hong Kong is a highly developed territory and ranks fourth on the UN Human Development Index.[8] The lack of space caused demand for denser constructions, which developed the city to a centre for modern architecture and the world's most vertical city. The city also has the largest number of skyscrapers of any city in the world[28] and its residents have some of the highest life expectancies in the world.[8] The dense space also led to a highly developed transportation network with public transport rates exceeding 90 percent.[29] Hong Kong ranks highly in numerous international financial and economic rankings. For instance, Hong Kong is rated third in the Global Financial Centre Index, behind New York City and London.[30] Hong Kong also holds first place in an annual ranking of the world’s most “economically free” countries, topping the chart for 25 years, according to the Heritage Foundation, a U.S. think tank.[31]\n",
    "\"\"\"\n",
    "\n",
    "print(scrub(s))\n",
    "\n",
    "\n"
   ]
  },
   "source": []
  },
  {
   "cell_type": "code",
   "execution_count": null,
   "metadata": {},
   "outputs": [],
   "source": []
  }
 ],
 "metadata": {
  "kernelspec": {
   "display_name": "Python 3",
   "language": "python",
   "name": "python3"
  },
  "language_info": {
   "codemirror_mode": {
    "name": "ipython",
    "version": 3
   },
   "file_extension": ".py",
   "mimetype": "text/x-python",
   "name": "python",
   "nbconvert_exporter": "python",
   "pygments_lexer": "ipython3",
   "version": "3.7.3"
  }
 },
 "nbformat": 4,
 "nbformat_minor": 4
}
